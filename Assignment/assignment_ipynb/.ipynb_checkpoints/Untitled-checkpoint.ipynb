{
 "cells": [
  {
   "cell_type": "markdown",
   "metadata": {},
   "source": [
    "# Assignment Data Structure and Solution\n",
    "#### We can use this Jupyter Notebook to analysis the data structure of different file and variables to help us to solve these three model construction and analysis."
   ]
  },
  {
   "cell_type": "markdown",
   "metadata": {},
   "source": [
    "# First Class(CommandLine)\n",
    "<big>**Calss Function**</big>:\n",
    "   1. Judge the command line to accord with the stationary Formate.\n",
    "   2. Print Help Inforamtion if the command formate is wrong.\n",
    "   3. Default:<br>\n",
    "      1)'index_nostoplist_nostemming.txt' / queries_nostoplist_nostemming.txt'. <br>\n",
    "      2) For the First dataset(index?), it's the key vocabularly in the text. <br>\n",
    "      3) For the second dataset(queries?), it's the summary of all the search queris. <br>\n",
    "       \n",
    "**Example Command Formate**:\n",
    "```\n",
    "> python ir_engine.py -o result.txt\n",
    "```"
   ]
  },
  {
   "cell_type": "code",
   "execution_count": 1,
   "metadata": {},
   "outputs": [],
   "source": [
    "#==============================================================================\n",
    "# Importing\n",
    "import sys, getopt, re\n",
    "import time\n",
    "#==============================================================================\n",
    "# Command line processing\n",
    "class CommandLine:\n",
    "    def __init__(self):\n",
    "        opts, args = getopt.getopt(sys.argv[1:], 'hspw:o:')\n",
    "        opts = dict(opts)\n",
    "        self.exit = True\n",
    "\n",
    "        if '-h' in opts:\n",
    "            self.printHelp()\n",
    "            return\n",
    "\n",
    "        if len(args) > 0:\n",
    "            print(\"*** ERROR: no arg files - only options! ***\", file=sys.stderr)\n",
    "            self.printHelp()\n",
    "            return\n",
    "\n",
    "        if '-w' in opts:\n",
    "            if opts['-w'] in ('binary', 'tf', 'tfidf'):\n",
    "                self.termWeighting = opts['-w']\n",
    "            else:\n",
    "                warning = (\n",
    "                    \"*** ERROR: term weighting label (opt: -w LABEL)! ***\\n\"\n",
    "                    \"    -- value (%s) not recognised!\\n\"\n",
    "                    \"    -- must be one of: binary / tf / tfidf\"\n",
    "                    )  % (opts['-w'])\n",
    "                print(warning, file=sys.stderr)\n",
    "                self.printHelp()\n",
    "                return\n",
    "        else:\n",
    "            self.termWeighting = 'binary'\n",
    "\n",
    "        if '-o' in opts:\n",
    "            self.outfile = opts['-o']\n",
    "        else:\n",
    "            print(\"*** ERROR: must specify output file (opt: -o FILE) ***\",\n",
    "                  file=sys.stderr)\n",
    "            self.printHelp()\n",
    "            return\n",
    "\n",
    "        if '-s' in opts and '-p' in opts:\n",
    "            self.indexFile   = 'index_withstoplist_withstemming.txt'\n",
    "            self.queriesFile = 'queries_withstoplist_withstemming.txt'\n",
    "        elif '-s' in opts:\n",
    "            self.indexFile   = 'index_withstoplist_nostemming.txt'\n",
    "            self.queriesFile = 'queries_withstoplist_nostemming.txt'\n",
    "        elif '-p' in opts:\n",
    "            self.indexFile   = 'index_nostoplist_withstemming.txt'\n",
    "            self.queriesFile = 'queries_nostoplist_withstemming.txt'\n",
    "        else:\n",
    "            self.indexFile   = 'index_nostoplist_nostemming.txt'\n",
    "            self.queriesFile = 'queries_nostoplist_nostemming.txt'\n",
    "            \n",
    "        self.exit = False\n",
    "\n",
    "    def printHelp(self):\n",
    "        progname = sys.argv[0]\n",
    "        progname = progname.split('/')[-1] # strip off extended path\n",
    "        help = __doc__.replace('<PROGNAME>', progname, 1)\n",
    "        print(help, file=sys.stderr)\n"
   ]
  },
  {
   "cell_type": "markdown",
   "metadata": {},
   "source": [
    "# Second Class(IndexLoader)\n",
    "<big>**Calss Function**</big>:\n",
    "   1. Use the **Regular Expression** to extract the information from original file and index in a new dictionary.\n",
    "   2. The New Generator dictionary has 2 dimensions.\n",
    "\n",
    "<big>**Data Structure(Python Dictionary)**</big>:<br>\n",
    "   1. {(term name)->{(term name)-> Count}}"
   ]
  },
  {
   "cell_type": "code",
   "execution_count": 2,
   "metadata": {},
   "outputs": [],
   "source": [
    "#==============================================================================\n",
    "# Load (precomputed) Index File for (preprocessed) Document Collection\n",
    "class IndexLoader:\n",
    "    def __init__(self, indexFile):\n",
    "        self.index = {}\n",
    "        docidCountRE = re.compile('(\\d+):(\\d+)')\n",
    "        f = open(indexFile, 'r')\n",
    "        for line in f:\n",
    "            term = line.split(' ', 1)[0]\n",
    "            self.index[term] = {}\n",
    "            for (docid, count) in docidCountRE.findall(line):\n",
    "                docid = int(docid)\n",
    "                self.index[term][docid] = int(count)\n",
    "    def getIndex(self):\n",
    "        return self.index"
   ]
  },
  {
   "cell_type": "markdown",
   "metadata": {},
   "source": [
    "# Third Class(Queries)\n",
    "<big>**Calss Function**</big>:\n",
    "   1. Use the **Regular Expression** to extract the information from original file and index in a new dictionary.\n",
    "   2. The New Generator dictionary has 2 or more dimensions.\n",
    "   3. This class is to extract the queries and get the same dataset formate(python dictionary) as IndexLoader\n",
    "\n",
    "<big>**Data Structure(Dictionary)**</big>:<br>\n",
    "   1. {(qid name)->{(qid name)-> count_num}}"
   ]
  },
  {
   "cell_type": "code",
   "execution_count": 3,
   "metadata": {},
   "outputs": [],
   "source": [
    "class Queries:\n",
    "    def __init__(self, queriesFile):\n",
    "        self.qStore = {}\n",
    "        termCountRE = re.compile('(\\w+):(\\d+)')\n",
    "        f = open(queriesFile, 'r')\n",
    "        for line in f:\n",
    "            qid = int(line.split(' ', 1)[0])\n",
    "            self.qStore[qid] = {}\n",
    "            for (term, count) in termCountRE.findall(line):\n",
    "                self.qStore[qid][term] = int(count)\n",
    "    \n",
    "    def getQuery(self, qid):\n",
    "        if qid in self.qStore:\n",
    "            return self.qStore[qid]\n",
    "        else:\n",
    "            print(\"*** ERROR: unknown query identifier (\\\"%s\\\") ***\" % qid, file=sys.stderr)\n",
    "            if type(qid) == type(''):\n",
    "                print('WARNING: query identifiers should be of type: integer', file=sys.stderr)\n",
    "                print('         -- your query identifier is of type: string', file=sys.stderr)\n",
    "            print(' -- program exiting', file=sys.stderr)\n",
    "    \n",
    "    def qids(self):\n",
    "        return sorted(self.qStore)"
   ]
  },
  {
   "cell_type": "markdown",
   "metadata": {},
   "source": [
    "# Forth Class(ResultStore)\n",
    "<big>**Calss Function**</big>:<br>\n",
    "<big>**Data Structure(Dictionary)**</big>:<br>"
   ]
  },
  {
   "cell_type": "code",
   "execution_count": 4,
   "metadata": {},
   "outputs": [],
   "source": [
    "class ResultStore:\n",
    "    def __init__(self, outfile):\n",
    "        self.outfile = outfile\n",
    "        self.results = []\n",
    "\n",
    "    def store(self, qid, docids):\n",
    "        if len(docids) > 10:\n",
    "            docids = docids[:10]\n",
    "        self.results.append((qid, docids))\n",
    "\n",
    "    def output(self):\n",
    "        with open(self.outfile, 'w') as out:\n",
    "            for (qid, docids) in self.results:\n",
    "                for docid in docids:\n",
    "                    print(qid, docid, file=out)"
   ]
  },
  {
   "cell_type": "markdown",
   "metadata": {},
   "source": [
    "# Target Class(Retrieve)"
   ]
  },
  {
   "cell_type": "code",
   "execution_count": 10,
   "metadata": {},
   "outputs": [],
   "source": [
    "# TODO: Finish the assignment part\n",
    "class Retrieve:\n",
    "    # Create new Retrieve object storing index and termWeighting scheme\n",
    "    def __init__(self,index, termWeighting):\n",
    "        self.index = index\n",
    "        self.termWeighting = termWeighting\n",
    "\n",
    "    # Method performing retrieval for specified query\n",
    "    def forQuery(self, query):\n",
    "        return range(1,11)"
   ]
  },
  {
   "cell_type": "markdown",
   "metadata": {},
   "source": [
    "<big>**Below Code is the Formate of Command(Please customize with on the basis of your requirements)**</big><br><br>\n",
    "\n",
    "**How to generate command line As you wish**<br>\n",
    "\n",
    "`sys.argv` is the python reserved variables and applied to `ArgumentParser.parse_args(args=None, namespace=None)` to be the one of the parameters. This is a list of strings, each of which is obviously derived from command line arguments, separated by spaces. We can redefine this list by below command.\n",
    "\n",
    "We should delete the key parameters like `python` and put the remains into the list."
   ]
  },
  {
   "cell_type": "code",
   "execution_count": 5,
   "metadata": {},
   "outputs": [],
   "source": [
    "# Example Command Formate:\n",
    "#  > python ir_engine.py -o result.txt\n",
    "sys.argv = ['ir_engine.py', '-o', 'result.txt']"
   ]
  },
  {
   "cell_type": "code",
   "execution_count": 6,
   "metadata": {},
   "outputs": [],
   "source": [
    "config = CommandLine()\n",
    "index = IndexLoader(config.indexFile).getIndex()"
   ]
  }
 ],
 "metadata": {
  "kernelspec": {
   "display_name": "textprocessing",
   "language": "python",
   "name": "textprocessing"
  },
  "language_info": {
   "codemirror_mode": {
    "name": "ipython",
    "version": 3
   },
   "file_extension": ".py",
   "mimetype": "text/x-python",
   "name": "python",
   "nbconvert_exporter": "python",
   "pygments_lexer": "ipython3",
   "version": "3.7.4"
  }
 },
 "nbformat": 4,
 "nbformat_minor": 2
}
